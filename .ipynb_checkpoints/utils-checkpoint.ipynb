{
 "cells": [
  {
   "cell_type": "markdown",
   "metadata": {},
   "source": [
    "# Utils for debugging your git objects\n",
    "I made this utils in order to follow [this](https://codewords.recurse.com/issues/two/git-from-the-inside-out) great guide on how git works under the hood"
   ]
  },
  {
   "cell_type": "markdown",
   "metadata": {},
   "source": [
    "## Imports & Consts"
   ]
  },
  {
   "cell_type": "code",
   "execution_count": 1,
   "metadata": {},
   "outputs": [],
   "source": [
    "from IPython.display import display, Markdown, Latex\n",
    "import os\n",
    "import zlib\n",
    "EXCLUDED_FOLDERS = ['info', 'pack']\n",
    "OBJECTS_DIRECTORY = '.git/objects'\n",
    "INDEX_FILE = '.git/index'"
   ]
  },
  {
   "cell_type": "markdown",
   "metadata": {},
   "source": [
    "## Utils"
   ]
  },
  {
   "cell_type": "code",
   "execution_count": 2,
   "metadata": {},
   "outputs": [],
   "source": [
    "def _pretty_print(text):\n",
    "    \"\"\"\n",
    "    A util function for printing text as markdown\n",
    "    :param string text: The markdown to print.\n",
    "    \"\"\"\n",
    "    display(Markdown(text))"
   ]
  },
  {
   "cell_type": "code",
   "execution_count": 3,
   "metadata": {},
   "outputs": [],
   "source": [
    "def _get_git_objects_paths(path_to_objects_directory=OBJECTS_DIRECTORY):\n",
    "    \"\"\"\n",
    "    A generator of paths to all of the git objects.\n",
    "    :param string path_to_objects_directory: THe path to the object directory\n",
    "    \"\"\"\n",
    "    for folder in os.listdir(path_to_objects_directory):\n",
    "        if folder not in EXCLUDED_FOLDERS:\n",
    "            for git_object in os.listdir(os.path.join(path_to_objects_directory, folder)):\n",
    "                yield os.path.join(path_to_objects_directory, folder, git_object), folder, git_object"
   ]
  },
  {
   "cell_type": "markdown",
   "metadata": {},
   "source": [
    "## API"
   ]
  },
  {
   "cell_type": "code",
   "execution_count": 4,
   "metadata": {},
   "outputs": [],
   "source": [
    "def decompress_git_object(path_to_object):\n",
    "    \"\"\"\n",
    "    Get the decompressed data of a git object.\n",
    "    :param string path_to_dict: The path to the git object.\n",
    "    \"\"\"\n",
    "    with open(path_to_object) as git_object:\n",
    "        compressed_content = git_object.read()\n",
    "    return zlib.decompress(compressed_content)"
   ]
  },
  {
   "cell_type": "code",
   "execution_count": 13,
   "metadata": {},
   "outputs": [],
   "source": [
    "def decompress_git_objects(folder_filter=None, path_to_objects_directory=OBJECTS_DIRECTORY):\n",
    "    \"\"\"\n",
    "    Decompress all of objects under .git/objects and print them to stdout.\n",
    "    :param string folder_filter: If passed only the objects starting with the filter will be printed\n",
    "    \"\"\"\n",
    "    for git_object_path, git_object_folder, git_object_name in _get_git_objects_paths(path_to_objects_directory):\n",
    "        full_git_object_name = \"{}{}\".format(git_object_folder, git_object_name)\n",
    "        if (folder_filter and full_git_object_name.startswith(folder_filter)) or not folder_filter: \n",
    "            _pretty_print('### {}'.format(os.path.join(git_object_folder, git_object_name)))\n",
    "            print decompress_git_object(git_object_path)"
   ]
  },
  {
   "cell_type": "markdown",
   "metadata": {},
   "source": [
    "## Play Ground"
   ]
  },
  {
   "cell_type": "code",
   "execution_count": 14,
   "metadata": {},
   "outputs": [
    {
     "data": {
      "text/markdown": [
       "### 1b/01acee6a3bb86505d8c63a2d4c63c270a05341"
      ],
      "text/plain": [
       "<IPython.core.display.Markdown object>"
      ]
     },
     "metadata": {},
     "output_type": "display_data"
    },
    {
     "name": "stdout",
     "output_type": "stream",
     "text": [
      "blob 3225\u0000{\n",
      " \"cells\": [\n",
      "  {\n",
      "   \"cell_type\": \"markdown\",\n",
      "   \"metadata\": {},\n",
      "   \"source\": [\n",
      "    \"## Imports\"\n",
      "   ]\n",
      "  },\n",
      "  {\n",
      "   \"cell_type\": \"code\",\n",
      "   \"execution_count\": 19,\n",
      "   \"metadata\": {},\n",
      "   \"outputs\": [],\n",
      "   \"source\": [\n",
      "    \"from IPython.display import display, Markdown, Latex\\n\",\n",
      "    \"import os\\n\",\n",
      "    \"import zlib\\n\",\n",
      "    \"EXCLUDED_FOLDERS = ['info', 'pack']\\n\",\n",
      "    \"OBJECTS_DIRECTORY = '.git/objects'\"\n",
      "   ]\n",
      "  },\n",
      "  {\n",
      "   \"cell_type\": \"markdown\",\n",
      "   \"metadata\": {},\n",
      "   \"source\": [\n",
      "    \"## Utils\"\n",
      "   ]\n",
      "  },\n",
      "  {\n",
      "   \"cell_type\": \"code\",\n",
      "   \"execution_count\": 27,\n",
      "   \"metadata\": {},\n",
      "   \"outputs\": [],\n",
      "   \"source\": [\n",
      "    \"def _get_git_objects_paths(path_to_objects_directory='.git/objects'):\\n\",\n",
      "    \"    for folder in os.listdir(path_to_objects_directory):\\n\",\n",
      "    \"        if folder not in EXCLUDED_FOLDERS:\\n\",\n",
      "    \"            for git_object in os.listdir(os.path.join(path_to_objects_directory, folder)):\\n\",\n",
      "    \"                yield os.path.join(path_to_objects_directory, folder, git_object), folder, git_object\"\n",
      "   ]\n",
      "  },\n",
      "  {\n",
      "   \"cell_type\": \"markdown\",\n",
      "   \"metadata\": {},\n",
      "   \"source\": [\n",
      "    \"## API\"\n",
      "   ]\n",
      "  },\n",
      "  {\n",
      "   \"cell_type\": \"code\",\n",
      "   \"execution_count\": 17,\n",
      "   \"metadata\": {},\n",
      "   \"outputs\": [],\n",
      "   \"source\": [\n",
      "    \"def decompress_git_object(path_to_object):\\n\",\n",
      "    \"    with open(path_to_object) as git_object:\\n\",\n",
      "    \"        compressed_content = git_object.read()\\n\",\n",
      "    \"    return zlib.decompress(compressed_content)\"\n",
      "   ]\n",
      "  },\n",
      "  {\n",
      "   \"cell_type\": \"code\",\n",
      "   \"execution_count\": 34,\n",
      "   \"metadata\": {},\n",
      "   \"outputs\": [],\n",
      "   \"source\": [\n",
      "    \"def decompress_git_objects(folder_filter=None):\\n\",\n",
      "    \"    for git_object_path, git_object_folder, git_object_name in _get_git_objects_paths():\\n\",\n",
      "    \"        if folder_filter:\\n\",\n",
      "    \"            if folder_filter in git_object_folder:\\n\",\n",
      "    \"                pretty_print('### {}/{}'.format(git_object_folder, git_object_name))\\n\",\n",
      "    \"                print decompress_git_object(git_object_path)\\n\",\n",
      "    \"        else:\\n\",\n",
      "    \"            pretty_print('### {}/{}'.format(git_object_folder, git_object_name))\\n\",\n",
      "    \"            print decompress_git_object(git_object_path)\"\n",
      "   ]\n",
      "  },\n",
      "  {\n",
      "   \"cell_type\": \"code\",\n",
      "   \"execution_count\": 39,\n",
      "   \"metadata\": {},\n",
      "   \"outputs\": [\n",
      "    {\n",
      "     \"data\": {\n",
      "      \"text/markdown\": [\n",
      "       \"### 78/981922613b2afb6025042ff6bd878ac1994e85\"\n",
      "      ],\n",
      "      \"text/plain\": [\n",
      "       \"<IPython.core.display.Markdown object>\"\n",
      "      ]\n",
      "     },\n",
      "     \"metadata\": {},\n",
      "     \"output_type\": \"display_data\"\n",
      "    },\n",
      "    {\n",
      "     \"name\": \"stdout\",\n",
      "     \"output_type\": \"stream\",\n",
      "     \"text\": [\n",
      "      \"blob 2\\u0000a\\n\",\n",
      "      \"\\n\"\n",
      "     ]\n",
      "    }\n",
      "   ],\n",
      "   \"source\": [\n",
      "    \"decompress_git_objects()\"\n",
      "   ]\n",
      "  },\n",
      "  {\n",
      "   \"cell_type\": \"code\",\n",
      "   \"execution_count\": null,\n",
      "   \"metadata\": {},\n",
      "   \"outputs\": [],\n",
      "   \"source\": []\n",
      "  }\n",
      " ],\n",
      " \"metadata\": {\n",
      "  \"kernelspec\": {\n",
      "   \"display_name\": \"Python 2\",\n",
      "   \"language\": \"python\",\n",
      "   \"name\": \"python2\"\n",
      "  },\n",
      "  \"language_info\": {\n",
      "   \"codemirror_mode\": {\n",
      "    \"name\": \"ipython\",\n",
      "    \"version\": 2\n",
      "   },\n",
      "   \"file_extension\": \".py\",\n",
      "   \"mimetype\": \"text/x-python\",\n",
      "   \"name\": \"python\",\n",
      "   \"nbconvert_exporter\": \"python\",\n",
      "   \"pygments_lexer\": \"ipython2\",\n",
      "   \"version\": \"2.7.15+\"\n",
      "  }\n",
      " },\n",
      " \"nbformat\": 4,\n",
      " \"nbformat_minor\": 2\n",
      "}\n",
      "\n"
     ]
    }
   ],
   "source": [
    "decompress_git_objects('1b')"
   ]
  },
  {
   "cell_type": "code",
   "execution_count": null,
   "metadata": {},
   "outputs": [],
   "source": []
  },
  {
   "cell_type": "code",
   "execution_count": null,
   "metadata": {},
   "outputs": [],
   "source": []
  }
 ],
 "metadata": {
  "kernelspec": {
   "display_name": "Python 2",
   "language": "python",
   "name": "python2"
  },
  "language_info": {
   "codemirror_mode": {
    "name": "ipython",
    "version": 2
   },
   "file_extension": ".py",
   "mimetype": "text/x-python",
   "name": "python",
   "nbconvert_exporter": "python",
   "pygments_lexer": "ipython2",
   "version": "2.7.15+"
  }
 },
 "nbformat": 4,
 "nbformat_minor": 2
}
